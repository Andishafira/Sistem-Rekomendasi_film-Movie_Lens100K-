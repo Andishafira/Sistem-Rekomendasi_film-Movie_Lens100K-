{
  "nbformat": 4,
  "nbformat_minor": 0,
  "metadata": {
    "colab": {
      "provenance": [],
      "collapsed_sections": [
        "n0677GGwBZhf",
        "tSlhMPOOuLIi",
        "6ZQ8UGDiuYu8"
      ]
    },
    "kernelspec": {
      "name": "python3",
      "display_name": "Python 3"
    },
    "language_info": {
      "name": "python"
    }
  },
  "cells": [
    {
      "cell_type": "markdown",
      "source": [
        "# **Project Sistem Rekomendasi : Metode Hibrida**"
      ],
      "metadata": {
        "id": "n0677GGwBZhf"
      }
    },
    {
      "cell_type": "markdown",
      "source": [
        "## Tujuan dan Manfaat Proyek"
      ],
      "metadata": {
        "id": "0FasEbesBfps"
      }
    },
    {
      "cell_type": "markdown",
      "source": [
        "**Tujuan utama** dari proyek ini adalah untuk membangun sebuah sistem rekomendasi film yang dapat meningkatkan keterlibatan (engagement) pengguna dan memperpanjang durasi mereka di platform. Kami ingin menyediakan rekomendasi yang sangat personal dan akurat, yang terasa seperti kurasi dari seorang ahli film.\n",
        "\n",
        "**Manfaat langsung** dari pencapaian tujuan ini adalah:\n",
        "\n",
        "* Peningkatan Retensi Pengguna: Pengguna yang merasa platform memahami selera mereka cenderung akan kembali lagi dan tidak beralih ke layanan lain.\n",
        "\n",
        "* Optimalisasi Konten: Wawasan dari model dapat membantu tim konten dalam mengambil keputusan yang didukung data tentang film apa yang harus ditambahkan ke katalog.\n",
        "\n",
        "* Peluang Monetisasi: Durasi tontonan yang lebih lama dan tingkat kunjungan yang lebih sering membuka peluang untuk pendapatan dari iklan atau peningkatan langganan.\n",
        "\n"
      ],
      "metadata": {
        "id": "sSbssFfoBkrL"
      }
    },
    {
      "cell_type": "markdown",
      "source": [
        "#Import Data"
      ],
      "metadata": {
        "id": "tSlhMPOOuLIi"
      }
    },
    {
      "cell_type": "markdown",
      "source": [
        "Mengimpor semua pustaka (libraries) Python yang dibutuhkan untuk proyek.\n",
        "\n",
        "`pandas`: Untuk memanipulasi dan menganalisis data dalam format tabel (DataFrame).\n",
        "\n",
        "`sklearn.feature_extraction.text.TfidfVectorizer`: Untuk mengubah data teks (genre film) menjadi vektor numerik menggunakan metode TF-IDF. Ini adalah inti dari model content-based.\n",
        "\n",
        "`sklearn.metrics.pairwise.cosine_similarity`: Untuk menghitung kemiripan antar film berdasarkan vektor genre mereka.\n",
        "\n",
        "`fastai.collab & fastai.tabular.all`: Pustaka tingkat tinggi yang mempermudah pembuatan model collaborative filtering dengan cepat."
      ],
      "metadata": {
        "id": "8hCA2dAtmYr3"
      }
    },
    {
      "cell_type": "code",
      "source": [
        "# Import pustaka yang diperlukan\n",
        "import pandas as pd\n",
        "from sklearn.feature_extraction.text import TfidfVectorizer\n",
        "from sklearn.metrics.pairwise import cosine_similarity\n",
        "import re\n",
        "\n",
        "# Import pustaka yang diperlukan\n",
        "import pandas as pd\n",
        "from fastai.collab import *\n",
        "from fastai.tabular.all import *\n",
        "from pathlib import Path"
      ],
      "metadata": {
        "id": "dQEJ4NqN2sVc"
      },
      "execution_count": 56,
      "outputs": []
    },
    {
      "cell_type": "markdown",
      "source": [
        "Perintah ini menggunakan Git untuk mengkloning (mengunduh) sebuah repositori dari GitHub. Repositori ini berisi dataset yang akan digunakan (`movies.csv, ratings.csv`, dll.). File-file tersebut akan disalin ke lingkungan kerja notebook."
      ],
      "metadata": {
        "id": "CzK-4nIsnaEV"
      }
    },
    {
      "cell_type": "code",
      "execution_count": 57,
      "metadata": {
        "colab": {
          "base_uri": "https://localhost:8080/"
        },
        "id": "t45gSl-0L1m5",
        "outputId": "750ac225-3cf8-40d3-81f5-1ea08e066264"
      },
      "outputs": [
        {
          "output_type": "stream",
          "name": "stdout",
          "text": [
            "fatal: destination path 'Dicoding' already exists and is not an empty directory.\n"
          ]
        }
      ],
      "source": [
        "#Clone repository dari github untuk mengakses dataset yang telah diunggah di github sebelumnya\n",
        "!git clone https://github.com/Andishafira/Dicoding.git"
      ]
    },
    {
      "cell_type": "markdown",
      "source": [
        "Kode ini mendefinisikan lokasi (path) dari empat file CSV yang baru saja diunduh dan memuatnya ke dalam DataFrame pandas.\n",
        "\n",
        "`df_movie`: Berisi informasi film (movieId, title, genres).\n",
        "\n",
        "`df_ratings`: Berisi data rating yang diberikan pengguna ke film (userId, movieId, rating).\n",
        "\n",
        "`df_tags dan df_links`: Data tambahan yang tidak digunakan dalam model akhir di notebook ini."
      ],
      "metadata": {
        "id": "oJBMrclDniHI"
      }
    },
    {
      "cell_type": "code",
      "source": [
        "#Inisialisasi path dari masing masing csv\n",
        "\n",
        "df_movie_path = \"/content/Dicoding/Belajar Machine Learning Terapan/Tugas 2_Sistem Rekomendasi/dataset/movies.csv\"\n",
        "df_ratings_path = \"/content/Dicoding/Belajar Machine Learning Terapan/Tugas 2_Sistem Rekomendasi/dataset/ratings.csv\"\n",
        "#df_tags_path = \"/content/Dicoding/Belajar Machine Learning Terapan/Tugas 2_Sistem Rekomendasi/dataset/tags.csv\"\n",
        "#df_links_path = \"/content/Dicoding/Belajar Machine Learning Terapan/Tugas 2_Sistem Rekomendasi/dataset/links.csv\"\n",
        "\n",
        "df_movie = pd.read_csv(df_movie_path)\n",
        "df_ratings = pd.read_csv(df_ratings_path)\n",
        "#df_tags = pd.read_csv(df_tags_path)\n",
        "#df_links = pd.read_csv(df_links_path)"
      ],
      "metadata": {
        "id": "d7CV3LifUS7o"
      },
      "execution_count": 58,
      "outputs": []
    },
    {
      "cell_type": "markdown",
      "source": [
        "Kode ini digunakan untuk melakukan analisis data eksplorasi dasar untuk memahami isi dataset.\n",
        "\n",
        "`df_movie.head() & df_ratings.head()`: Menampilkan 5 baris pertama dari tabel film dan rating untuk melihat struktur datanya.\n",
        "\n",
        "`df_movie.info() & df_ratings.info()`: Memberikan ringkasan teknis tentang DataFrame, seperti jumlah data, nama kolom, dan tipe datanya. Ini berguna untuk memeriksa apakah ada data yang hilang (missing values).\n",
        "\n",
        "`len(df_movie['genres'].unique())`: Menghitung jumlah kombinasi genre yang unik.\n",
        "\n",
        "`all_genres.value_counts().head(10)`: Memisahkan genre yang digabung dengan | (misalnya, \"Adventure|Animation|Children\") menjadi genre individual, lalu menghitung dan menampilkan 10 genre paling umum di seluruh dataset (Drama, Comedy, Thriller, dll.)."
      ],
      "metadata": {
        "id": "AERN0JY4noUg"
      }
    },
    {
      "cell_type": "code",
      "source": [
        "# Menampilkan 5 baris pertama dari movies_df\n",
        "print(\"--- 5 baris pertama dari movies.csv ---\")\n",
        "print(df_movie.head())\n",
        "\n",
        "# Menampilkan informasi kolom dan tipe data dari movies_df\n",
        "print(\"\\n--- Informasi dataframe movies_df ---\")\n",
        "print(df_movie.info())\n",
        "\n",
        "# Menampilkan 5 baris pertama dari ratings_df\n",
        "print(\"\\n--- 5 baris pertama dari ratings.csv ---\")\n",
        "print(df_ratings.head())\n",
        "\n",
        "# Menampilkan informasi kolom dan tipe data dari ratings_df\n",
        "print(\"\\n--- Informasi dataframe ratings_df ---\")\n",
        "print(df_ratings.info())\n",
        "\n",
        "# Memeriksa jumlah nilai unik pada kolom 'genres'\n",
        "print(\"\\n--- Jumlah genre unik ---\")\n",
        "print(len(df_movie['genres'].unique()))\n",
        "\n",
        "# Mengambil 10 genre teratas\n",
        "print(\"\\n--- 10 genre teratas ---\")\n",
        "# Memisahkan genre terlebih dahulu untuk mendapatkan gambaran yang lebih akurat\n",
        "all_genres = df_movie['genres'].str.split('|', expand=True).stack().reset_index(level=1, drop=True)\n",
        "print(all_genres.value_counts().head(10))"
      ],
      "metadata": {
        "colab": {
          "base_uri": "https://localhost:8080/"
        },
        "id": "S46YepJaU6UL",
        "outputId": "89ee47be-3df0-46de-b580-881b89ca516b"
      },
      "execution_count": 59,
      "outputs": [
        {
          "output_type": "stream",
          "name": "stdout",
          "text": [
            "--- 5 baris pertama dari movies.csv ---\n",
            "   movieId                               title  \\\n",
            "0        1                    Toy Story (1995)   \n",
            "1        2                      Jumanji (1995)   \n",
            "2        3             Grumpier Old Men (1995)   \n",
            "3        4            Waiting to Exhale (1995)   \n",
            "4        5  Father of the Bride Part II (1995)   \n",
            "\n",
            "                                        genres  \n",
            "0  Adventure|Animation|Children|Comedy|Fantasy  \n",
            "1                   Adventure|Children|Fantasy  \n",
            "2                               Comedy|Romance  \n",
            "3                         Comedy|Drama|Romance  \n",
            "4                                       Comedy  \n",
            "\n",
            "--- Informasi dataframe movies_df ---\n",
            "<class 'pandas.core.frame.DataFrame'>\n",
            "RangeIndex: 9742 entries, 0 to 9741\n",
            "Data columns (total 3 columns):\n",
            " #   Column   Non-Null Count  Dtype \n",
            "---  ------   --------------  ----- \n",
            " 0   movieId  9742 non-null   int64 \n",
            " 1   title    9742 non-null   object\n",
            " 2   genres   9742 non-null   object\n",
            "dtypes: int64(1), object(2)\n",
            "memory usage: 228.5+ KB\n",
            "None\n",
            "\n",
            "--- 5 baris pertama dari ratings.csv ---\n",
            "   userId  movieId  rating  timestamp\n",
            "0       1        1     4.0  964982703\n",
            "1       1        3     4.0  964981247\n",
            "2       1        6     4.0  964982224\n",
            "3       1       47     5.0  964983815\n",
            "4       1       50     5.0  964982931\n",
            "\n",
            "--- Informasi dataframe ratings_df ---\n",
            "<class 'pandas.core.frame.DataFrame'>\n",
            "RangeIndex: 100836 entries, 0 to 100835\n",
            "Data columns (total 4 columns):\n",
            " #   Column     Non-Null Count   Dtype  \n",
            "---  ------     --------------   -----  \n",
            " 0   userId     100836 non-null  int64  \n",
            " 1   movieId    100836 non-null  int64  \n",
            " 2   rating     100836 non-null  float64\n",
            " 3   timestamp  100836 non-null  int64  \n",
            "dtypes: float64(1), int64(3)\n",
            "memory usage: 3.1 MB\n",
            "None\n",
            "\n",
            "--- Jumlah genre unik ---\n",
            "951\n",
            "\n",
            "--- 10 genre teratas ---\n",
            "Drama        4361\n",
            "Comedy       3756\n",
            "Thriller     1894\n",
            "Action       1828\n",
            "Romance      1596\n",
            "Adventure    1263\n",
            "Crime        1199\n",
            "Sci-Fi        980\n",
            "Horror        978\n",
            "Fantasy       779\n",
            "Name: count, dtype: int64\n"
          ]
        }
      ]
    },
    {
      "cell_type": "markdown",
      "source": [
        "#Preprocessing Data"
      ],
      "metadata": {
        "id": "6ZQ8UGDiuYu8"
      }
    },
    {
      "cell_type": "code",
      "source": [
        "# Gabungkan data ratings dan movies\n",
        "ratings = df_ratings.merge(df_movie)"
      ],
      "metadata": {
        "id": "IEP2FZa7NvRV"
      },
      "execution_count": 60,
      "outputs": []
    },
    {
      "cell_type": "markdown",
      "source": [
        "Tabel `df_ratings` dan `df_movie` digabungkan menjadi satu DataFrame baru bernama `ratings`. Penggabungan ini dilakukan berdasarkan kolom `movieId` yang ada di kedua tabel. Hasilnya adalah sebuah tabel yang berisi `userId, rating, title,` dan `genres` dalam satu baris, yang memudahkan proses pelatihan model."
      ],
      "metadata": {
        "id": "x7eCmXWNn6sX"
      }
    },
    {
      "cell_type": "code",
      "source": [
        "ratings.head()"
      ],
      "metadata": {
        "colab": {
          "base_uri": "https://localhost:8080/",
          "height": 0
        },
        "id": "-eHJ4XYyOEla",
        "outputId": "dc0b8c1c-c835-42eb-d4f3-5dbb30c2e021"
      },
      "execution_count": 61,
      "outputs": [
        {
          "output_type": "execute_result",
          "data": {
            "text/plain": [
              "   userId  movieId  rating  timestamp                        title  \\\n",
              "0       1        1     4.0  964982703             Toy Story (1995)   \n",
              "1       1        3     4.0  964981247      Grumpier Old Men (1995)   \n",
              "2       1        6     4.0  964982224                  Heat (1995)   \n",
              "3       1       47     5.0  964983815  Seven (a.k.a. Se7en) (1995)   \n",
              "4       1       50     5.0  964982931   Usual Suspects, The (1995)   \n",
              "\n",
              "                                        genres  \n",
              "0  Adventure|Animation|Children|Comedy|Fantasy  \n",
              "1                               Comedy|Romance  \n",
              "2                        Action|Crime|Thriller  \n",
              "3                             Mystery|Thriller  \n",
              "4                       Crime|Mystery|Thriller  "
            ],
            "text/html": [
              "\n",
              "  <div id=\"df-845bf22b-eaa1-4ca3-94e5-54fe32279346\" class=\"colab-df-container\">\n",
              "    <div>\n",
              "<style scoped>\n",
              "    .dataframe tbody tr th:only-of-type {\n",
              "        vertical-align: middle;\n",
              "    }\n",
              "\n",
              "    .dataframe tbody tr th {\n",
              "        vertical-align: top;\n",
              "    }\n",
              "\n",
              "    .dataframe thead th {\n",
              "        text-align: right;\n",
              "    }\n",
              "</style>\n",
              "<table border=\"1\" class=\"dataframe\">\n",
              "  <thead>\n",
              "    <tr style=\"text-align: right;\">\n",
              "      <th></th>\n",
              "      <th>userId</th>\n",
              "      <th>movieId</th>\n",
              "      <th>rating</th>\n",
              "      <th>timestamp</th>\n",
              "      <th>title</th>\n",
              "      <th>genres</th>\n",
              "    </tr>\n",
              "  </thead>\n",
              "  <tbody>\n",
              "    <tr>\n",
              "      <th>0</th>\n",
              "      <td>1</td>\n",
              "      <td>1</td>\n",
              "      <td>4.0</td>\n",
              "      <td>964982703</td>\n",
              "      <td>Toy Story (1995)</td>\n",
              "      <td>Adventure|Animation|Children|Comedy|Fantasy</td>\n",
              "    </tr>\n",
              "    <tr>\n",
              "      <th>1</th>\n",
              "      <td>1</td>\n",
              "      <td>3</td>\n",
              "      <td>4.0</td>\n",
              "      <td>964981247</td>\n",
              "      <td>Grumpier Old Men (1995)</td>\n",
              "      <td>Comedy|Romance</td>\n",
              "    </tr>\n",
              "    <tr>\n",
              "      <th>2</th>\n",
              "      <td>1</td>\n",
              "      <td>6</td>\n",
              "      <td>4.0</td>\n",
              "      <td>964982224</td>\n",
              "      <td>Heat (1995)</td>\n",
              "      <td>Action|Crime|Thriller</td>\n",
              "    </tr>\n",
              "    <tr>\n",
              "      <th>3</th>\n",
              "      <td>1</td>\n",
              "      <td>47</td>\n",
              "      <td>5.0</td>\n",
              "      <td>964983815</td>\n",
              "      <td>Seven (a.k.a. Se7en) (1995)</td>\n",
              "      <td>Mystery|Thriller</td>\n",
              "    </tr>\n",
              "    <tr>\n",
              "      <th>4</th>\n",
              "      <td>1</td>\n",
              "      <td>50</td>\n",
              "      <td>5.0</td>\n",
              "      <td>964982931</td>\n",
              "      <td>Usual Suspects, The (1995)</td>\n",
              "      <td>Crime|Mystery|Thriller</td>\n",
              "    </tr>\n",
              "  </tbody>\n",
              "</table>\n",
              "</div>\n",
              "    <div class=\"colab-df-buttons\">\n",
              "\n",
              "  <div class=\"colab-df-container\">\n",
              "    <button class=\"colab-df-convert\" onclick=\"convertToInteractive('df-845bf22b-eaa1-4ca3-94e5-54fe32279346')\"\n",
              "            title=\"Convert this dataframe to an interactive table.\"\n",
              "            style=\"display:none;\">\n",
              "\n",
              "  <svg xmlns=\"http://www.w3.org/2000/svg\" height=\"24px\" viewBox=\"0 -960 960 960\">\n",
              "    <path d=\"M120-120v-720h720v720H120Zm60-500h600v-160H180v160Zm220 220h160v-160H400v160Zm0 220h160v-160H400v160ZM180-400h160v-160H180v160Zm440 0h160v-160H620v160ZM180-180h160v-160H180v160Zm440 0h160v-160H620v160Z\"/>\n",
              "  </svg>\n",
              "    </button>\n",
              "\n",
              "  <style>\n",
              "    .colab-df-container {\n",
              "      display:flex;\n",
              "      gap: 12px;\n",
              "    }\n",
              "\n",
              "    .colab-df-convert {\n",
              "      background-color: #E8F0FE;\n",
              "      border: none;\n",
              "      border-radius: 50%;\n",
              "      cursor: pointer;\n",
              "      display: none;\n",
              "      fill: #1967D2;\n",
              "      height: 32px;\n",
              "      padding: 0 0 0 0;\n",
              "      width: 32px;\n",
              "    }\n",
              "\n",
              "    .colab-df-convert:hover {\n",
              "      background-color: #E2EBFA;\n",
              "      box-shadow: 0px 1px 2px rgba(60, 64, 67, 0.3), 0px 1px 3px 1px rgba(60, 64, 67, 0.15);\n",
              "      fill: #174EA6;\n",
              "    }\n",
              "\n",
              "    .colab-df-buttons div {\n",
              "      margin-bottom: 4px;\n",
              "    }\n",
              "\n",
              "    [theme=dark] .colab-df-convert {\n",
              "      background-color: #3B4455;\n",
              "      fill: #D2E3FC;\n",
              "    }\n",
              "\n",
              "    [theme=dark] .colab-df-convert:hover {\n",
              "      background-color: #434B5C;\n",
              "      box-shadow: 0px 1px 3px 1px rgba(0, 0, 0, 0.15);\n",
              "      filter: drop-shadow(0px 1px 2px rgba(0, 0, 0, 0.3));\n",
              "      fill: #FFFFFF;\n",
              "    }\n",
              "  </style>\n",
              "\n",
              "    <script>\n",
              "      const buttonEl =\n",
              "        document.querySelector('#df-845bf22b-eaa1-4ca3-94e5-54fe32279346 button.colab-df-convert');\n",
              "      buttonEl.style.display =\n",
              "        google.colab.kernel.accessAllowed ? 'block' : 'none';\n",
              "\n",
              "      async function convertToInteractive(key) {\n",
              "        const element = document.querySelector('#df-845bf22b-eaa1-4ca3-94e5-54fe32279346');\n",
              "        const dataTable =\n",
              "          await google.colab.kernel.invokeFunction('convertToInteractive',\n",
              "                                                    [key], {});\n",
              "        if (!dataTable) return;\n",
              "\n",
              "        const docLinkHtml = 'Like what you see? Visit the ' +\n",
              "          '<a target=\"_blank\" href=https://colab.research.google.com/notebooks/data_table.ipynb>data table notebook</a>'\n",
              "          + ' to learn more about interactive tables.';\n",
              "        element.innerHTML = '';\n",
              "        dataTable['output_type'] = 'display_data';\n",
              "        await google.colab.output.renderOutput(dataTable, element);\n",
              "        const docLink = document.createElement('div');\n",
              "        docLink.innerHTML = docLinkHtml;\n",
              "        element.appendChild(docLink);\n",
              "      }\n",
              "    </script>\n",
              "  </div>\n",
              "\n",
              "\n",
              "    <div id=\"df-234e7d6d-036f-4bca-a9db-1f3d9f647a00\">\n",
              "      <button class=\"colab-df-quickchart\" onclick=\"quickchart('df-234e7d6d-036f-4bca-a9db-1f3d9f647a00')\"\n",
              "                title=\"Suggest charts\"\n",
              "                style=\"display:none;\">\n",
              "\n",
              "<svg xmlns=\"http://www.w3.org/2000/svg\" height=\"24px\"viewBox=\"0 0 24 24\"\n",
              "     width=\"24px\">\n",
              "    <g>\n",
              "        <path d=\"M19 3H5c-1.1 0-2 .9-2 2v14c0 1.1.9 2 2 2h14c1.1 0 2-.9 2-2V5c0-1.1-.9-2-2-2zM9 17H7v-7h2v7zm4 0h-2V7h2v10zm4 0h-2v-4h2v4z\"/>\n",
              "    </g>\n",
              "</svg>\n",
              "      </button>\n",
              "\n",
              "<style>\n",
              "  .colab-df-quickchart {\n",
              "      --bg-color: #E8F0FE;\n",
              "      --fill-color: #1967D2;\n",
              "      --hover-bg-color: #E2EBFA;\n",
              "      --hover-fill-color: #174EA6;\n",
              "      --disabled-fill-color: #AAA;\n",
              "      --disabled-bg-color: #DDD;\n",
              "  }\n",
              "\n",
              "  [theme=dark] .colab-df-quickchart {\n",
              "      --bg-color: #3B4455;\n",
              "      --fill-color: #D2E3FC;\n",
              "      --hover-bg-color: #434B5C;\n",
              "      --hover-fill-color: #FFFFFF;\n",
              "      --disabled-bg-color: #3B4455;\n",
              "      --disabled-fill-color: #666;\n",
              "  }\n",
              "\n",
              "  .colab-df-quickchart {\n",
              "    background-color: var(--bg-color);\n",
              "    border: none;\n",
              "    border-radius: 50%;\n",
              "    cursor: pointer;\n",
              "    display: none;\n",
              "    fill: var(--fill-color);\n",
              "    height: 32px;\n",
              "    padding: 0;\n",
              "    width: 32px;\n",
              "  }\n",
              "\n",
              "  .colab-df-quickchart:hover {\n",
              "    background-color: var(--hover-bg-color);\n",
              "    box-shadow: 0 1px 2px rgba(60, 64, 67, 0.3), 0 1px 3px 1px rgba(60, 64, 67, 0.15);\n",
              "    fill: var(--button-hover-fill-color);\n",
              "  }\n",
              "\n",
              "  .colab-df-quickchart-complete:disabled,\n",
              "  .colab-df-quickchart-complete:disabled:hover {\n",
              "    background-color: var(--disabled-bg-color);\n",
              "    fill: var(--disabled-fill-color);\n",
              "    box-shadow: none;\n",
              "  }\n",
              "\n",
              "  .colab-df-spinner {\n",
              "    border: 2px solid var(--fill-color);\n",
              "    border-color: transparent;\n",
              "    border-bottom-color: var(--fill-color);\n",
              "    animation:\n",
              "      spin 1s steps(1) infinite;\n",
              "  }\n",
              "\n",
              "  @keyframes spin {\n",
              "    0% {\n",
              "      border-color: transparent;\n",
              "      border-bottom-color: var(--fill-color);\n",
              "      border-left-color: var(--fill-color);\n",
              "    }\n",
              "    20% {\n",
              "      border-color: transparent;\n",
              "      border-left-color: var(--fill-color);\n",
              "      border-top-color: var(--fill-color);\n",
              "    }\n",
              "    30% {\n",
              "      border-color: transparent;\n",
              "      border-left-color: var(--fill-color);\n",
              "      border-top-color: var(--fill-color);\n",
              "      border-right-color: var(--fill-color);\n",
              "    }\n",
              "    40% {\n",
              "      border-color: transparent;\n",
              "      border-right-color: var(--fill-color);\n",
              "      border-top-color: var(--fill-color);\n",
              "    }\n",
              "    60% {\n",
              "      border-color: transparent;\n",
              "      border-right-color: var(--fill-color);\n",
              "    }\n",
              "    80% {\n",
              "      border-color: transparent;\n",
              "      border-right-color: var(--fill-color);\n",
              "      border-bottom-color: var(--fill-color);\n",
              "    }\n",
              "    90% {\n",
              "      border-color: transparent;\n",
              "      border-bottom-color: var(--fill-color);\n",
              "    }\n",
              "  }\n",
              "</style>\n",
              "\n",
              "      <script>\n",
              "        async function quickchart(key) {\n",
              "          const quickchartButtonEl =\n",
              "            document.querySelector('#' + key + ' button');\n",
              "          quickchartButtonEl.disabled = true;  // To prevent multiple clicks.\n",
              "          quickchartButtonEl.classList.add('colab-df-spinner');\n",
              "          try {\n",
              "            const charts = await google.colab.kernel.invokeFunction(\n",
              "                'suggestCharts', [key], {});\n",
              "          } catch (error) {\n",
              "            console.error('Error during call to suggestCharts:', error);\n",
              "          }\n",
              "          quickchartButtonEl.classList.remove('colab-df-spinner');\n",
              "          quickchartButtonEl.classList.add('colab-df-quickchart-complete');\n",
              "        }\n",
              "        (() => {\n",
              "          let quickchartButtonEl =\n",
              "            document.querySelector('#df-234e7d6d-036f-4bca-a9db-1f3d9f647a00 button');\n",
              "          quickchartButtonEl.style.display =\n",
              "            google.colab.kernel.accessAllowed ? 'block' : 'none';\n",
              "        })();\n",
              "      </script>\n",
              "    </div>\n",
              "\n",
              "    </div>\n",
              "  </div>\n"
            ],
            "application/vnd.google.colaboratory.intrinsic+json": {
              "type": "dataframe",
              "variable_name": "ratings"
            }
          },
          "metadata": {},
          "execution_count": 61
        }
      ]
    },
    {
      "cell_type": "code",
      "source": [
        "#Membagi Data\n",
        "#split ratings to train df and test df (80:20)\n",
        "from sklearn.model_selection import train_test_split\n",
        "train_df, test_df = train_test_split(ratings, test_size=0.2, random_state=42)"
      ],
      "metadata": {
        "id": "xo6ob2RMYEML"
      },
      "execution_count": 62,
      "outputs": []
    },
    {
      "cell_type": "markdown",
      "source": [
        "Dataset ratings dibagi menjadi dua bagian:\n",
        "\n",
        "* **Data Latih (train_df)**: 80% dari data, digunakan untuk melatih model.\n",
        "\n",
        "* **Data Uji (test_df)**: 20% dari data, digunakan untuk mengevaluasi seberapa baik performa model pada data yang belum pernah dilihat sebelumnya."
      ],
      "metadata": {
        "id": "7p7sPPEToHuI"
      }
    },
    {
      "cell_type": "code",
      "source": [
        "#TfidfVectorizer\n",
        "# Dilakukan untuk mengubah data teks (genre film) menjadi representasi angka (vektor) yang bermakna\n",
        "# Use the existing 'genres' column from df_movie directly\n",
        "genres_data = df_movie['genres']\n",
        "\n",
        "# Inisialisasi TfidfVectorizer\n",
        "from sklearn.feature_extraction.text import TfidfVectorizer\n",
        "from sklearn.metrics.pairwise import cosine_similarity\n",
        "\n",
        "tfidf_vectorizer = TfidfVectorizer(stop_words='english')\n",
        "# Use the corrected genres_data for fitting and transforming\n",
        "tfidf_matrix = tfidf_vectorizer.fit_transform(genres_data)"
      ],
      "metadata": {
        "id": "EkdxADgW0puW"
      },
      "execution_count": 63,
      "outputs": []
    },
    {
      "cell_type": "markdown",
      "source": [
        "Hasilnya adalah sebuah matriks angka (tfidf_matrix) di mana setiap baris mewakili satu film dan setiap kolom mewakili satu genre unik, dengan nilai di dalamnya adalah skor bobot TF-IDF."
      ],
      "metadata": {
        "id": "iEYVoPgx1VAE"
      }
    },
    {
      "cell_type": "markdown",
      "source": [
        "#Train Model"
      ],
      "metadata": {
        "id": "xaL90Qo3ucFD"
      }
    },
    {
      "cell_type": "markdown",
      "source": [
        "Sel ini adalah inti dari pemodelan, di mana dua jenis sistem rekomendasi dibangun.\n",
        "\n",
        "1. **Model Collaborative Filtering** (dengan fastai):\n",
        "\n",
        "`CollabDataLoaders.from_df`: Mempersiapkan data latih ke dalam format yang dibutuhkan oleh fastai.\n",
        "\n",
        "`collab_learner`: Membuat model collaborative filtering. Model ini belajar pola dari interaksi pengguna-film secara keseluruhan.\n",
        "\n",
        "`learn.fit_one_cycle(5, 5e-3)`: Memulai proses pelatihan model selama 5 epoch (siklus). Output tabel menunjukkan bahwa loss (kesalahan) pada data validasi semakin menurun, yang menandakan model sedang belajar.\n",
        "\n",
        "2. **Model Content-Based Filtering** (dengan scikit-learn):\n",
        "\n",
        "`TfidfVectorizer`: Mengonversi kolom genres dari setiap film menjadi representasi angka (vektor). Film dengan genre serupa akan memiliki vektor yang mirip (Tahapan ini ada di data preparation)\n",
        "\n",
        "`cosine_similarity`: Menghitung skor kemiripan (antara -1 dan 1) untuk setiap pasang film berdasarkan vektor genre mereka. Hasilnya adalah matriks cosine_sim yang menyimpan skor ini."
      ],
      "metadata": {
        "id": "Dx6QoGZWoVka"
      }
    },
    {
      "cell_type": "code",
      "source": [
        "# --- Model Collaborative Filtering (fastai) ---\n",
        "# Persiapan data loaders\n",
        "dls = CollabDataLoaders.from_df(\n",
        "    train_df,\n",
        "    user_name='userId',\n",
        "    item_name='title',\n",
        "    rating_name='rating',\n",
        "    bs=64\n",
        ")\n",
        "\n",
        "# Latih model\n",
        "learn = collab_learner(dls, n_factors=50, y_range=(0.5, 5.5), metrics=rmse)\n",
        "#learn.lr_find()\n",
        "learn.fit_one_cycle(5, 0.001)"
      ],
      "metadata": {
        "colab": {
          "base_uri": "https://localhost:8080/",
          "height": 206
        },
        "id": "gafBTA09OQeC",
        "outputId": "660004c7-fdde-4551-87f5-7016c3187f82"
      },
      "execution_count": 64,
      "outputs": [
        {
          "output_type": "display_data",
          "data": {
            "text/plain": [
              "<IPython.core.display.HTML object>"
            ],
            "text/html": [
              "\n",
              "<style>\n",
              "    /* Turns off some styling */\n",
              "    progress {\n",
              "        /* gets rid of default border in Firefox and Opera. */\n",
              "        border: none;\n",
              "        /* Needs to be in here for Safari polyfill so background images work as expected. */\n",
              "        background-size: auto;\n",
              "    }\n",
              "    progress:not([value]), progress:not([value])::-webkit-progress-bar {\n",
              "        background: repeating-linear-gradient(45deg, #7e7e7e, #7e7e7e 10px, #5c5c5c 10px, #5c5c5c 20px);\n",
              "    }\n",
              "    .progress-bar-interrupted, .progress-bar-interrupted::-webkit-progress-bar {\n",
              "        background: #F44336;\n",
              "    }\n",
              "</style>\n"
            ]
          },
          "metadata": {}
        },
        {
          "output_type": "display_data",
          "data": {
            "text/plain": [
              "<IPython.core.display.HTML object>"
            ],
            "text/html": [
              "<table border=\"1\" class=\"dataframe\">\n",
              "  <thead>\n",
              "    <tr style=\"text-align: left;\">\n",
              "      <th>epoch</th>\n",
              "      <th>train_loss</th>\n",
              "      <th>valid_loss</th>\n",
              "      <th>_rmse</th>\n",
              "      <th>time</th>\n",
              "    </tr>\n",
              "  </thead>\n",
              "  <tbody>\n",
              "    <tr>\n",
              "      <td>0</td>\n",
              "      <td>1.141062</td>\n",
              "      <td>1.123719</td>\n",
              "      <td>1.060056</td>\n",
              "      <td>00:06</td>\n",
              "    </tr>\n",
              "    <tr>\n",
              "      <td>1</td>\n",
              "      <td>0.730116</td>\n",
              "      <td>0.814338</td>\n",
              "      <td>0.902407</td>\n",
              "      <td>00:06</td>\n",
              "    </tr>\n",
              "    <tr>\n",
              "      <td>2</td>\n",
              "      <td>0.650688</td>\n",
              "      <td>0.768635</td>\n",
              "      <td>0.876718</td>\n",
              "      <td>00:06</td>\n",
              "    </tr>\n",
              "    <tr>\n",
              "      <td>3</td>\n",
              "      <td>0.572365</td>\n",
              "      <td>0.756747</td>\n",
              "      <td>0.869912</td>\n",
              "      <td>00:06</td>\n",
              "    </tr>\n",
              "    <tr>\n",
              "      <td>4</td>\n",
              "      <td>0.582169</td>\n",
              "      <td>0.754741</td>\n",
              "      <td>0.868759</td>\n",
              "      <td>00:06</td>\n",
              "    </tr>\n",
              "  </tbody>\n",
              "</table>"
            ]
          },
          "metadata": {}
        }
      ]
    },
    {
      "cell_type": "code",
      "source": [
        "# --- Model Content-based (berbasis genre) ---\n",
        "\n",
        "# Hitung Cosine Similarity\n",
        "cosine_sim = cosine_similarity(tfidf_matrix, tfidf_matrix)"
      ],
      "metadata": {
        "id": "f7XnLKsB0kF-"
      },
      "execution_count": 65,
      "outputs": []
    },
    {
      "cell_type": "markdown",
      "source": [
        "##Membuat Model Hybrid"
      ],
      "metadata": {
        "id": "nAYuyHGgufnU"
      }
    },
    {
      "cell_type": "markdown",
      "source": [
        "Sel ini mendefinisikan fungsi `get_hybrid_recommendations` yang menggabungkan kekuatan kedua model sebelumnya.\n",
        "\n",
        "1. Mendapatkan Film yang Belum Ditonton: Fungsi ini mengambil `user_id` dan mencari semua film yang belum pernah ia tonton.\n",
        "\n",
        "2. Prediksi Rating (Collaborative): Model `fastai` digunakan untuk memprediksi rating yang mungkin akan diberikan pengguna pada film-film yang belum ia tonton.\n",
        "\n",
        "3. Mencari Film Favorit (Benih Content-Based): Fungsi ini mencari film dengan rating tertinggi yang pernah diberikan oleh pengguna. Film ini akan menjadi \"benih\" untuk mencari film lain yang genrenya mirip.\n",
        "\n",
        "4. Skor Kemiripan Genre (Content-Based): Berdasarkan film \"benih\" tadi, fungsi ini mengambil skor kemiripan genre dari matriks `cosine_sim` untuk semua film lainnya.\n",
        "\n",
        "5. Menghitung Skor Hibrida: Skor akhir dihitung dengan menggabungkan prediksi rating (dari model collaborative) dan skor kemiripan genre (dari model content-based) menggunakan bobot tertentu (`collaborative_weight dan content_weight`).\n",
        "\n",
        "6. Mengembalikan Top-N Rekomendasi: Fungsi mengembalikan daftar film teratas berdasarkan skor hibrida tertinggi."
      ],
      "metadata": {
        "id": "2kyDlsisokgV"
      }
    },
    {
      "cell_type": "code",
      "source": [
        "def get_hybrid_recommendations(user_id, num_recommendations=10, collaborative_weight=0.6, content_weight=0.4):\n",
        "    \"\"\"\n",
        "    Memberikan rekomendasi film hibrida untuk pengguna tertentu.\n",
        "\n",
        "    Fungsi ini menggabungkan:\n",
        "    1. Prediksi rating dari model Collaborative Filtering.\n",
        "    2. Kemiripan genre dari model Content-based Filtering.\n",
        "\n",
        "    Args:\n",
        "        user_id (int): ID pengguna.\n",
        "        num_recommendations (int): Jumlah rekomendasi yang diinginkan.\n",
        "        collaborative_weight (float): Bobot untuk skor collaborative (prediksi rating).\n",
        "        content_weight (float): Bobot untuk skor content-based (kemiripan genre).\n",
        "\n",
        "    Returns:\n",
        "        pd.DataFrame: Daftar film yang direkomendasikan dengan skor hibrida.\n",
        "    \"\"\"\n",
        "    # 1. Mendapatkan daftar film yang belum pernah ditonton pengguna\n",
        "    user_rated_movies = train_df[train_df['userId'] == user_id]['title'].tolist()\n",
        "    all_movies_titles = df_movie['title'].tolist()\n",
        "    unrated_movies = [title for title in all_movies_titles if title not in user_rated_movies]\n",
        "\n",
        "    # Pilih film acak dari yang belum ditonton untuk diprediksi (untuk efisiensi)\n",
        "    unrated_movies_sample = pd.Series(unrated_movies).tolist()\n",
        "\n",
        "    # 2. Menggunakan model Collaborative untuk memprediksi rating\n",
        "    user_tensor = torch.tensor([dls.classes['userId'].o2i[user_id]] * len(unrated_movies_sample))\n",
        "    movie_titles_tensor = torch.tensor([dls.classes['title'].o2i[title] for title in unrated_movies_sample])\n",
        "\n",
        "    # Concatenate user and movie tensors\n",
        "    collab_input = torch.stack([user_tensor, movie_titles_tensor], dim=1)\n",
        "\n",
        "    with torch.no_grad():\n",
        "        collab_preds = learn.model.forward(collab_input)\n",
        "    collab_preds = collab_preds.numpy()\n",
        "\n",
        "    collab_df = pd.DataFrame({'title': unrated_movies_sample, 'predicted_rating': collab_preds.flatten()}) # Flatten to match the shape\n",
        "\n",
        "    # 3. Mendapatkan film favorit pengguna (sebagai \"benih\" untuk model Content-based)\n",
        "    # Kita ambil 5 film dengan rating tertinggi dari pengguna\n",
        "    user_top_movies = train_df[(train_df['userId'] == user_id) & (train_df['rating'] >= 4)].sort_values(by='rating', ascending=False).head(5)\n",
        "\n",
        "    if user_top_movies.empty:\n",
        "        print(\"Pengguna ini belum memiliki rating film tinggi. Menggunakan rekomendasi Collaborative saja.\")\n",
        "        # Add content similarity scores of 0 for all recommendations if no top movies\n",
        "        collab_df['content_sim_score'] = 0.0\n",
        "        collab_df['hybrid_score'] = collaborative_weight * collab_df['predicted_rating']\n",
        "        return collab_df.sort_values(by='hybrid_score', ascending=False).head(num_recommendations)\n",
        "\n",
        "\n",
        "    seed_movie_title = user_top_movies['title'].iloc[0]\n",
        "\n",
        "    # 4. Menghitung skor kemiripan konten untuk re-ranking\n",
        "    # Dapatkan indeks film 'seed'\n",
        "    seed_movie_idx = df_movie[df_movie['title'] == seed_movie_title].index[0]\n",
        "\n",
        "    # Dapatkan skor kemiripan dari film seed dengan semua film lain\n",
        "    content_sim_scores = cosine_sim[seed_movie_idx]\n",
        "\n",
        "    # Gabungkan dengan dataframe prediksi\n",
        "    hybrid_recs = collab_df.merge(df_movie[['title']], on='title')\n",
        "    hybrid_recs['content_sim_score'] = hybrid_recs['title'].apply(\n",
        "        lambda x: content_sim_scores[df_movie[df_movie['title'] == x].index[0]]\n",
        "    )\n",
        "\n",
        "    # 5. Menggabungkan skor untuk mendapatkan skor hibrida\n",
        "    hybrid_recs['hybrid_score'] = (\n",
        "        collaborative_weight * hybrid_recs['predicted_rating'] +\n",
        "        content_weight * (hybrid_recs['content_sim_score'] * 5) # Kalikan dengan 5 agar skalanya mirip\n",
        "    )\n",
        "\n",
        "    # Urutkan berdasarkan skor hibrida dan tampilkan hasilnya\n",
        "    final_recs = hybrid_recs.sort_values(by='hybrid_score', ascending=False).head(num_recommendations)\n",
        "    return final_recs[['title', 'hybrid_score', 'predicted_rating', 'content_sim_score']]"
      ],
      "metadata": {
        "id": "gYamRKt9Rnuq"
      },
      "execution_count": 66,
      "outputs": []
    },
    {
      "cell_type": "markdown",
      "source": [
        "##Contoh Testing"
      ],
      "metadata": {
        "id": "ZYm4CUWiulpN"
      }
    },
    {
      "cell_type": "markdown",
      "source": [
        "Kode ini menunjukkan cara menggunakan fungsi hibrida. Fungsi `get_hybrid_recommendations` dipanggil untuk pengguna dengan ID 197. Hasilnya adalah 10 film yang direkomendasikan, diurutkan berdasarkan `hybrid_score` tertinggi."
      ],
      "metadata": {
        "id": "NVWGcmQppHJ2"
      }
    },
    {
      "cell_type": "code",
      "source": [
        "# Contoh penggunaan:\n",
        "user_id_to_recommend = 197\n",
        "print(f\"--- Rekomendasi Hibrida untuk Pengguna {user_id_to_recommend} ---\")\n",
        "recommendations = get_hybrid_recommendations(user_id_to_recommend)\n",
        "print(recommendations)"
      ],
      "metadata": {
        "colab": {
          "base_uri": "https://localhost:8080/"
        },
        "id": "h3OzPld1Saiz",
        "outputId": "a0a4eab3-509e-49a0-d524-1e551cfa5c5f"
      },
      "execution_count": 67,
      "outputs": [
        {
          "output_type": "stream",
          "name": "stdout",
          "text": [
            "--- Rekomendasi Hibrida untuk Pengguna 197 ---\n",
            "                                                                 title  \\\n",
            "6515                                                   Superbad (2007)   \n",
            "378                                          Dazed and Confused (1993)   \n",
            "1060                                            Raising Arizona (1987)   \n",
            "2068  Monty Python's And Now for Something Completely Different (1971)   \n",
            "974                                          This Is Spinal Tap (1984)   \n",
            "2170                                   Ferris Bueller's Day Off (1986)   \n",
            "4556                         Monty Python's The Meaning of Life (1983)   \n",
            "2962                               Planes, Trains & Automobiles (1987)   \n",
            "3887                                                Top Secret! (1984)   \n",
            "189                                                      Clerks (1994)   \n",
            "\n",
            "      hybrid_score  predicted_rating  content_sim_score  \n",
            "6515      4.261823          3.769704                1.0  \n",
            "378       4.230481          3.717468                1.0  \n",
            "1060      4.226547          3.710912                1.0  \n",
            "2068      4.224578          3.707630                1.0  \n",
            "974       4.214694          3.691157                1.0  \n",
            "2170      4.204823          3.674704                1.0  \n",
            "4556      4.190026          3.650043                1.0  \n",
            "2962      4.177800          3.629666                1.0  \n",
            "3887      4.175330          3.625550                1.0  \n",
            "189       4.175163          3.625271                1.0  \n"
          ]
        }
      ]
    },
    {
      "cell_type": "markdown",
      "source": [
        "#Evaluasi Model"
      ],
      "metadata": {
        "id": "s6INXUVruoO4"
      }
    },
    {
      "cell_type": "markdown",
      "source": [
        "Untuk mengukur kinerja model secara objektif, fungsi `evaluate_hybrid_recommender` dibuat.\n",
        "\n",
        "1. **Metrik** : Fungsi ini menggunakan **Precision@k** (berapa persen dari k rekomendasi yang relevan) dan **Recall@k**(berapa persen dari total film relevan yang berhasil direkomendasikan).\n",
        "\n",
        "2. **Proses** : Fungsi ini berjalan pada data uji (`test_df`). Untuk setiap pengguna sampel:\n",
        "\n",
        "    * Menentukan \"film relevan\" (film yang diberi rating tinggi, misalnya >= 4.0).\n",
        "\n",
        "    * Menghasilkan 10 rekomendasi teratas menggunakan fungsi hibrida.\n",
        "\n",
        "    * Membandingkan film yang direkomendasikan dengan film yang relevan untuk menghitung \"hits\".\n",
        "\n",
        "    * Menghitung Precision dan Recall.\n",
        "\n",
        "3. **Hasil** : Sel terakhir menjalankan evaluasi dan mencetak Rata-rata Precision@10: 0.0380 dan Rata-rata Recall@10: 0.0285."
      ],
      "metadata": {
        "id": "ZEx4AqdUpcMC"
      }
    },
    {
      "cell_type": "code",
      "source": [
        "def evaluate_hybrid_recommender(model, ratings_df, test_df, k=10, min_rating=4.0):\n",
        "    \"\"\"\n",
        "    Mengevaluasi sistem rekomendasi hibrida menggunakan metrik Precision@k dan Recall@k.\n",
        "\n",
        "    Args:\n",
        "        model: Model fastai yang sudah dilatih.\n",
        "        ratings_df (pd.DataFrame): Dataframe rating lengkap.\n",
        "        k (int): Jumlah item teratas yang akan dipertimbangkan untuk rekomendasi.\n",
        "        min_rating (float): Rating minimum untuk dianggap \"relevan\".\n",
        "\n",
        "    Returns:\n",
        "        tuple: Precision@k dan Recall@k rata-rata.\n",
        "    \"\"\"\n",
        "    all_users = test_df['userId'].unique()\n",
        "    all_movies = ratings_df['title'].unique()\n",
        "\n",
        "    precision_scores = []\n",
        "    recall_scores = []\n",
        "\n",
        "    # Ambil sampel beberapa pengguna untuk evaluasi yang efisien\n",
        "    sample_users = pd.Series(all_users).sample(n=min(50, len(all_users)), random_state=42)\n",
        "\n",
        "    for user_id in sample_users:\n",
        "        # Dapatkan film yang sudah dirating pengguna\n",
        "        user_ratings = test_df[test_df['userId'] == user_id]\n",
        "\n",
        "        # Pisahkan film relevan (rating tinggi) dari film yang tidak relevan\n",
        "        relevant_movies = user_ratings[user_ratings['rating'] >= min_rating]['title'].tolist()\n",
        "        print(f\"Pengguna {user_id} memiliki {len(relevant_movies)} film relevan.\")\n",
        "        # Dapatkan rekomendasi hibrida\n",
        "        # Karena ini simulasi, kita gunakan fungsi rekomendasi sebelumnya\n",
        "        recommendations = get_hybrid_recommendations(user_id, num_recommendations=k)\n",
        "        print(f\"Rekomendasi untuk pengguna {user_id}: {recommendations['title'].tolist()}\")\n",
        "        if recommendations is None:\n",
        "            continue\n",
        "\n",
        "        recommended_movies = recommendations['title'].tolist()\n",
        "\n",
        "        # Hitung irisan antara film yang direkomendasikan dan film yang relevan\n",
        "        hits = len(set(recommended_movies) & set(relevant_movies))\n",
        "        print(f\"Pengguna {user_id} memiliki {hits} hits.\")\n",
        "        # Hitung Precision@k\n",
        "        precision = hits / len(recommended_movies) if len(recommended_movies) > 0 else 0\n",
        "        precision_scores.append(precision)\n",
        "\n",
        "        # Hitung Recall@k\n",
        "        recall = hits / len(relevant_movies) if len(relevant_movies) > 0 else 0\n",
        "        recall_scores.append(recall)\n",
        "\n",
        "    # Hitung rata-rata Precision dan Recall\n",
        "    avg_precision = sum(precision_scores) / len(precision_scores) if precision_scores else 0\n",
        "    avg_recall = sum(recall_scores) / len(recall_scores) if recall_scores else 0\n",
        "\n",
        "    return avg_precision, avg_recall\n",
        "\n"
      ],
      "metadata": {
        "id": "f5O4npLsT19E"
      },
      "execution_count": 68,
      "outputs": []
    },
    {
      "cell_type": "code",
      "source": [
        "# Uji coba dengan k=10 dan rating relevan >= 4\n",
        "avg_prec, avg_rec = evaluate_hybrid_recommender(learn, ratings, test_df, k=10, min_rating=4.0)\n",
        "print(f\"Rata-rata Precision@{10}: {avg_prec:.4f}\")\n",
        "print(f\"Rata-rata Recall@{10}: {avg_rec:.4f}\")"
      ],
      "metadata": {
        "colab": {
          "base_uri": "https://localhost:8080/"
        },
        "id": "p8q1pApaUCuh",
        "outputId": "17a26cad-9351-4dbb-8f69-b0ecf95efc1e"
      },
      "execution_count": 69,
      "outputs": [
        {
          "output_type": "stream",
          "name": "stdout",
          "text": [
            "Pengguna 428 memiliki 4 film relevan.\n",
            "Rekomendasi untuk pengguna 428: ['Graduate, The (1967)', 'Adaptation (2002)', 'Harold and Maude (1971)', 'Philadelphia Story, The (1940)', 'Lost in Translation (2003)', 'Moonrise Kingdom (2012)', 'Manhattan (1979)', 'Hannah and Her Sisters (1986)', 'Apartment, The (1960)', 'Sideways (2004)']\n",
            "Pengguna 428 memiliki 0 hits.\n",
            "Pengguna 582 memiliki 9 film relevan.\n",
            "Rekomendasi untuk pengguna 582: ['Watchmen (2009)', 'V for Vendetta (2006)', 'Edge of Tomorrow (2014)', 'Minority Report (2002)', 'Super 8 (2011)', 'Donnie Darko (2001)', 'Clockwork Orange, A (1971)', 'Matrix, The (1999)', 'Spider-Man 2 (2004)', 'Batman Begins (2005)']\n",
            "Pengguna 582 memiliki 1 hits.\n",
            "Pengguna 215 memiliki 14 film relevan.\n",
            "Rekomendasi untuk pengguna 215: ['Godfather, The (1972)', 'Godfather: Part II, The (1974)', 'American History X (1998)', 'Goodfellas (1990)', 'Three Billboards Outside Ebbing, Missouri (2017)', 'Casino (1995)', 'On the Waterfront (1954)', 'Gran Torino (2008)', 'Catch Me If You Can (2002)', 'Bonnie and Clyde (1967)']\n",
            "Pengguna 215 memiliki 0 hits.\n",
            "Pengguna 461 memiliki 3 film relevan.\n",
            "Rekomendasi untuk pengguna 461: ['Life Is Beautiful (La Vita è bella) (1997)', 'Doctor Zhivago (1965)', 'Tiger and the Snow, The (La tigre e la neve) (2005)', 'English Patient, The (1996)', 'I Served the King of England (Obsluhoval jsem anglického krále) (2006)', 'Train of Life (Train de vie) (1998)', 'Cold Mountain (2003)', 'From Here to Eternity (1953)', 'Gone with the Wind (1939)', 'Barry Lyndon (1975)']\n",
            "Pengguna 461 memiliki 0 hits.\n",
            "Pengguna 197 memiliki 2 film relevan.\n",
            "Rekomendasi untuk pengguna 197: ['Superbad (2007)', 'Dazed and Confused (1993)', 'Raising Arizona (1987)', \"Monty Python's And Now for Something Completely Different (1971)\", 'This Is Spinal Tap (1984)', \"Ferris Bueller's Day Off (1986)\", \"Monty Python's The Meaning of Life (1983)\", 'Planes, Trains & Automobiles (1987)', 'Top Secret! (1984)', 'Clerks (1994)']\n",
            "Pengguna 197 memiliki 0 hits.\n",
            "Pengguna 600 memiliki 42 film relevan.\n",
            "Rekomendasi untuk pengguna 600: ['Rogue One: A Star Wars Story (2016)', 'Nausicaä of the Valley of the Wind (Kaze no tani no Naushika) (1984)', 'Hellboy II: The Golden Army (2008)', 'Guardians of the Galaxy (2014)', 'The Martian (2015)', 'Doctor Who: Last Christmas (2014)', 'Mothra (Mosura) (1961)', 'Star Wars: Episode IV - A New Hope (1977)', 'Galaxy Quest (1999)', 'Wolverine, The (2013)']\n",
            "Pengguna 600 memiliki 1 hits.\n",
            "Pengguna 537 memiliki 5 film relevan.\n",
            "Rekomendasi untuk pengguna 537: ['Princess Bride, The (1987)', 'Monty Python and the Holy Grail (1975)', 'Untitled Spider-Man Reboot (2017)', 'Big Trouble in Little China (1986)', 'Army of Darkness (1993)', 'Highlander (1986)', 'Indiana Jones and the Temple of Doom (1984)', 'Dogma (1999)', 'Dragonslayer (1981)', 'Raiders of the Lost Ark (Indiana Jones and the Raiders of the Lost Ark) (1981)']\n",
            "Pengguna 537 memiliki 0 hits.\n",
            "Pengguna 362 memiliki 18 film relevan.\n",
            "Rekomendasi untuk pengguna 362: ['Django Unchained (2012)', 'Butch Cassidy and the Sundance Kid (1969)', 'Fistful of Dollars, A (Per un pugno di dollari) (1964)', 'Tombstone (1993)', 'High Noon (1952)', 'For a Few Dollars More (Per qualche dollaro in più) (1965)', 'Little Big Man (1970)', 'True Grit (2010)', 'Searchers, The (1956)', 'Treasure of the Sierra Madre, The (1948)']\n",
            "Pengguna 362 memiliki 0 hits.\n",
            "Pengguna 224 memiliki 6 film relevan.\n",
            "Rekomendasi untuk pengguna 224: ['Midnight in Paris (2011)', 'Like Water for Chocolate (Como agua para chocolate) (1992)', 'Arizona Dream (1993)', 'Scrooged (1988)', \"Amelie (Fabuleux destin d'Amélie Poulain, Le) (2001)\", 'Stranger than Fiction (2006)', 'Science of Sleep, The (La science des rêves) (2006)', 'Young Frankenstein (1974)', 'Big Fish (2003)', 'Penelope (2006)']\n",
            "Pengguna 224 memiliki 0 hits.\n",
            "Pengguna 97 memiliki 7 film relevan.\n",
            "Rekomendasi untuk pengguna 97: ['Star Wars: Episode V - The Empire Strikes Back (1980)', 'Star Wars: Episode IV - A New Hope (1977)', 'Guardians of the Galaxy (2014)', 'Iron Man (2008)', 'Avengers: Infinity War - Part I (2018)', 'X-Men: Days of Future Past (2014)', 'Superman (1978)', 'Serenity (2005)', 'Thor: Ragnarok (2017)', 'Deadpool (2016)']\n",
            "Pengguna 97 memiliki 0 hits.\n",
            "Pengguna 165 memiliki 8 film relevan.\n",
            "Rekomendasi untuk pengguna 165: ['Yojimbo (1961)', 'Seven Samurai (Shichinin no samurai) (1954)', 'Gladiator (2000)', 'Ben-Hur (1959)', 'Hero (Ying xiong) (2002)', 'Goldfinger (1964)', 'Hidden Fortress, The (Kakushi-toride no san-akunin) (1958)', 'Commando (1985)', 'From Russia with Love (1963)', 'Lord of the Rings: The Return of the King, The (2003)']\n",
            "Pengguna 165 memiliki 1 hits.\n",
            "Pengguna 576 memiliki 2 film relevan.\n",
            "Rekomendasi untuk pengguna 576: ['Matrix, The (1999)', 'Blade Runner (1982)', 'Terminator, The (1984)', 'Equilibrium (2002)', 'Chronicle (2012)', 'Armageddon (1998)', 'Island, The (2005)', 'Predator (1987)', 'They Live (1988)', 'Captain America: Civil War (2016)']\n",
            "Pengguna 576 memiliki 0 hits.\n",
            "Pengguna 313 memiliki 32 film relevan.\n",
            "Rekomendasi untuk pengguna 313: ['Chronicle (2012)', 'Equilibrium (2002)', 'eXistenZ (1999)', 'Captain America: Civil War (2016)', 'Chronicles of Riddick, The (2004)', 'Logan (2017)', 'Island, The (2005)', 'Death Race 2 (2010)', 'Rise of the Planet of the Apes (2011)', 'Repo Men (2010)']\n",
            "Pengguna 313 memiliki 0 hits.\n",
            "Pengguna 72 memiliki 6 film relevan.\n",
            "Rekomendasi untuk pengguna 72: ['Blade Runner (1982)', 'Terminator, The (1984)', 'Terminator 2: Judgment Day (1991)', 'Equilibrium (2002)', 'Chronicle (2012)', 'Logan (2017)', 'Island, The (2005)', 'Predator (1987)', 'Star Trek: First Contact (1996)', 'Captain America: Civil War (2016)']\n",
            "Pengguna 72 memiliki 1 hits.\n",
            "Pengguna 533 memiliki 5 film relevan.\n",
            "Rekomendasi untuk pengguna 533: ['Shining, The (1980)', 'Bubba Ho-tep (2002)', 'Drag Me to Hell (2009)', 'Hatchet III (2013)', 'Gremlins (1984)', 'Gremlins 2: The New Batch (1990)', 'What We Do in the Shadows (2014)', 'Dr. Giggles (1992)', 'Zombieland (2009)', 'Halloween (1978)']\n",
            "Pengguna 533 memiliki 1 hits.\n",
            "Pengguna 553 memiliki 8 film relevan.\n",
            "Rekomendasi untuk pengguna 553: ['Taxi Driver (1976)', 'Zodiac (2007)', 'In Bruges (2008)', 'Eastern Promises (2007)', 'Nightcrawler (2014)', 'Shawshank Redemption, The (1994)', 'Fight Club (1999)', 'Few Good Men, A (1992)', 'Cape Fear (1962)', 'Boondock Saints, The (2000)']\n",
            "Pengguna 553 memiliki 1 hits.\n",
            "Pengguna 207 memiliki 0 film relevan.\n",
            "Rekomendasi untuk pengguna 207: ['Casablanca (1942)', 'Beautiful Mind, A (2001)', 'Good Will Hunting (1997)', 'Sense and Sensibility (1995)', 'Cinderella Man (2005)', \"Breakfast at Tiffany's (1961)\", 'Dangerous Liaisons (1988)', 'Hours, The (2002)', 'In the Mood For Love (Fa yeung nin wa) (2000)', 'And Your Mother Too (Y tu mamá también) (2001)']\n",
            "Pengguna 207 memiliki 0 hits.\n",
            "Pengguna 55 memiliki 2 film relevan.\n",
            "Rekomendasi untuk pengguna 55: ['Pulp Fiction (1994)', 'Fargo (1996)', 'In Bruges (2008)', \"Dead Men Don't Wear Plaid (1982)\", 'Office Space (1999)', 'Taxi Driver (1976)', 'Get Shorty (1995)', 'Sting, The (1973)', 'True Romance (1993)', \"Ocean's Eleven (2001)\"]\n",
            "Pengguna 55 memiliki 0 hits.\n",
            "Pengguna 567 memiliki 10 film relevan.\n",
            "Rekomendasi untuk pengguna 567: ['Her (2013)', 'Perfect Sense (2011)', \"Time Traveler's Wife, The (2009)\", 'Solaris (2002)', 'Never Let Me Go (2010)', 'Miracle Mile (1989)', 'Another Earth (2011)', 'Forever Young (1992)', 'Youth Without Youth (2007)', 'Upside Down (2012)']\n",
            "Pengguna 567 memiliki 0 hits.\n",
            "Pengguna 599 memiliki 34 film relevan.\n",
            "Rekomendasi untuk pengguna 599: ['Star Wars: Episode VI - Return of the Jedi (1983)', 'Star Wars: Episode V - The Empire Strikes Back (1980)', 'Guardians of the Galaxy (2014)', 'Aliens (1986)', 'Avengers: Infinity War - Part I (2018)', 'Chronicle (2012)', 'Black Panther (2017)', 'The Hunger Games (2012)', 'Logan (2017)', 'Serenity (2005)']\n",
            "Pengguna 599 memiliki 3 hits.\n",
            "Pengguna 517 memiliki 26 film relevan.\n",
            "Rekomendasi untuk pengguna 517: ['Clan of the Cave Bear, The (1986)', 'Season of the Witch (2011)', 'The Odyssey (1997)', 'Earthsea (Legend of Earthsea) (2004)', 'The Shape of Water (2017)', 'Percy Jackson & the Olympians: The Lightning Thief (2010)', 'Fire and Ice (2008)', 'Zoom (2006)', 'Black Knight (2001)', 'The Hobbit: The Battle of the Five Armies (2014)']\n",
            "Pengguna 517 memiliki 0 hits.\n",
            "Pengguna 247 memiliki 18 film relevan.\n",
            "Rekomendasi untuk pengguna 247: ['Harry Potter and the Half-Blood Prince (2009)', 'Thor (2011)', 'Pirates of the Caribbean: On Stranger Tides (2011)', 'Hobbit: An Unexpected Journey, The (2012)', 'Inception (2010)', 'Oz the Great and Powerful (2013)', 'Thor: The Dark World (2013)', 'Star Wars: Episode VII - The Force Awakens (2015)', 'Harry Potter and the Goblet of Fire (2005)', 'Captain Phillips (2013)']\n",
            "Pengguna 247 memiliki 2 hits.\n",
            "Pengguna 563 memiliki 10 film relevan.\n",
            "Rekomendasi untuk pengguna 563: ['Thank You for Smoking (2006)', 'Big Night (1996)', 'Grand Budapest Hotel, The (2014)', 'Rosencrantz and Guildenstern Are Dead (1990)', 'American Graffiti (1973)', 'Weather Man, The (2005)', 'Terms of Endearment (1983)', 'Network (1976)', 'Happiness (1998)', 'Breaking Away (1979)']\n",
            "Pengguna 563 memiliki 0 hits.\n",
            "Pengguna 199 memiliki 27 film relevan.\n",
            "Rekomendasi untuk pengguna 199: ['Chronicle (2012)', 'Logan (2017)', 'Equilibrium (2002)', 'Captain America: Civil War (2016)', 'Predator (1987)', 'Thing, The (1982)', 'They Live (1988)', 'Rise of the Planet of the Apes (2011)', 'Ex Machina (2015)', 'Pi (1998)']\n",
            "Pengguna 199 memiliki 0 hits.\n",
            "Pengguna 608 memiliki 57 film relevan.\n",
            "Rekomendasi untuk pengguna 608: ['Amadeus (1984)', 'Cool Hand Luke (1967)', 'Streetcar Named Desire, A (1951)', 'Malcolm X (1992)', '12 Angry Men (1957)', 'Do the Right Thing (1989)', 'Social Network, The (2010)', 'Mr. Smith Goes to Washington (1939)', \"Mr. Holland's Opus (1995)\", 'All About My Mother (Todo sobre mi madre) (1999)']\n",
            "Pengguna 608 memiliki 0 hits.\n",
            "Pengguna 383 memiliki 4 film relevan.\n",
            "Rekomendasi untuk pengguna 383: ['Black Swan (2010)', 'Last King of Scotland, The (2006)', 'Barton Fink (1991)', 'Murder in the First (1995)', 'Gaslight (1944)', 'Firm, The (1993)', \"Amores Perros (Love's a Bitch) (2000)\", 'Babel (2006)', \"All the President's Men (1976)\", 'Gone Girl (2014)']\n",
            "Pengguna 383 memiliki 0 hits.\n",
            "Pengguna 569 memiliki 5 film relevan.\n",
            "Rekomendasi untuk pengguna 569: ['Fargo (1996)', 'In Bruges (2008)', \"Man Bites Dog (C'est arrivé près de chez vous) (1992)\", 'Taxi Driver (1976)', 'Confessions of a Dangerous Mind (2002)', 'Confessions of a Dangerous Mind (2002)', 'Confessions of a Dangerous Mind (2002)', 'Confessions of a Dangerous Mind (2002)', 'Freeway (1996)', 'Informant!, The (2009)']\n",
            "Pengguna 569 memiliki 0 hits.\n",
            "Pengguna 457 memiliki 4 film relevan.\n",
            "Rekomendasi untuk pengguna 457: ['Seven Samurai (Shichinin no samurai) (1954)', 'Raiders of the Lost Ark (Indiana Jones and the Raiders of the Lost Ark) (1981)', 'Ben-Hur (1959)', 'Hero (Ying xiong) (2002)', 'Indiana Jones and the Last Crusade (1989)', 'Into the Wild (2007)', 'Yojimbo (1961)', 'Lord of the Rings: The Return of the King, The (2003)', 'All Is Lost (2013)', 'White Squall (1996)']\n",
            "Pengguna 457 memiliki 0 hits.\n",
            "Pengguna 318 memiliki 78 film relevan.\n",
            "Rekomendasi untuk pengguna 318: ['Do the Right Thing (1989)', 'Cool Hand Luke (1967)', 'All About My Mother (Todo sobre mi madre) (1999)', 'Seventh Seal, The (Sjunde inseglet, Det) (1957)', 'Amadeus (1984)', \"One Flew Over the Cuckoo's Nest (1975)\", 'Rain Man (1988)', 'Whiplash (2014)', 'Central Station (Central do Brasil) (1998)', 'Streetcar Named Desire, A (1951)']\n",
            "Pengguna 318 memiliki 1 hits.\n",
            "Pengguna 185 memiliki 6 film relevan.\n",
            "Rekomendasi untuk pengguna 185: ['Rear Window (1954)', 'Seven (a.k.a. Se7en) (1995)', 'Old Boy (2003)', 'Witness for the Prosecution (1957)', 'The Machinist (2004)', 'Usual Suspects, The (1995)', 'Shutter Island (2010)', 'Reservoir Dogs (1992)', 'Arsenic and Old Lace (1944)', 'Dogville (2003)']\n",
            "Pengguna 185 memiliki 0 hits.\n",
            "Pengguna 46 memiliki 4 film relevan.\n",
            "Rekomendasi untuk pengguna 46: ['Forrest Gump (1994)', 'Last of the Mohicans, The (1992)', 'Life Is Beautiful (La Vita è bella) (1997)', \"Schindler's List (1993)\", 'There Will Be Blood (2007)', 'Doctor Zhivago (1965)', 'Shenandoah (1965)', 'Unforgiven (1992)', 'Little Big Man (1970)', 'High Noon (1952)']\n",
            "Pengguna 46 memiliki 0 hits.\n",
            "Pengguna 38 memiliki 7 film relevan.\n",
            "Rekomendasi untuk pengguna 38: ['Raising Arizona (1987)', \"Monty Python's Life of Brian (1979)\", 'Superbad (2007)', 'Dazed and Confused (1993)', 'This Is Spinal Tap (1984)', \"Monty Python's And Now for Something Completely Different (1971)\", 'Producers, The (1968)', \"Ferris Bueller's Day Off (1986)\", 'Airplane! (1980)', 'Top Secret! (1984)']\n",
            "Pengguna 38 memiliki 0 hits.\n",
            "Pengguna 352 memiliki 42 film relevan.\n",
            "Rekomendasi untuk pengguna 352: ['Léon: The Professional (a.k.a. The Professional) (Léon) (1994)', 'Boondock Saints, The (2000)', 'Collateral (2004)', 'Elite Squad (Tropa de Elite) (2007)', 'City of God (Cidade de Deus) (2002)', 'Heat (1995)', 'Die Hard (1988)', 'Taxi Driver (1976)', 'Kill Bill: Vol. 1 (2003)', 'Munich (2005)']\n",
            "Pengguna 352 memiliki 0 hits.\n",
            "Pengguna 554 memiliki 12 film relevan.\n",
            "Rekomendasi untuk pengguna 554: ['12 Angry Men (1957)', 'Streetcar Named Desire, A (1951)', \"One Flew Over the Cuckoo's Nest (1975)\", 'Requiem for a Dream (2000)', \"King's Speech, The (2010)\", 'Mr. Smith Goes to Washington (1939)', 'Dead Poets Society (1989)', \"Mr. Holland's Opus (1995)\", 'Malcolm X (1992)', 'Million Dollar Baby (2004)']\n",
            "Pengguna 554 memiliki 0 hits.\n",
            "Pengguna 243 memiliki 5 film relevan.\n",
            "Rekomendasi untuk pengguna 243: ['Heat (1995)', 'Die Hard (1988)', 'Net, The (1995)', 'Bourne Supremacy, The (2004)', 'Dirty Harry (1971)', 'Kill Bill: Vol. 1 (2003)', 'French Connection, The (1971)', 'Bourne Ultimatum, The (2007)', 'John Wick: Chapter Two (2017)', 'U.S. Marshals (1998)']\n",
            "Pengguna 243 memiliki 0 hits.\n",
            "Pengguna 297 memiliki 5 film relevan.\n",
            "Rekomendasi untuk pengguna 297: ['Kiss Kiss Bang Bang (2005)', 'Dial M for Murder (1954)', 'Rear Window (1954)', 'Spanish Prisoner, The (1997)', 'Name of the Rose, The (Name der Rose, Der) (1986)', 'Irreversible (Irréversible) (2002)', 'Girl with the Dragon Tattoo, The (Män som hatar kvinnor) (2009)', 'Memento (2000)', 'To Catch a Thief (1955)', 'Sherlock Holmes (2009)']\n",
            "Pengguna 297 memiliki 0 hits.\n",
            "Pengguna 118 memiliki 2 film relevan.\n",
            "Rekomendasi untuk pengguna 118: ['Shawshank Redemption, The (1994)', 'Godfather, The (1972)', 'American History X (1998)', 'On the Waterfront (1954)', 'Green Mile, The (1999)', 'Three Billboards Outside Ebbing, Missouri (2017)', 'Casino (1995)', 'Bonnie and Clyde (1967)', 'Gran Torino (2008)', 'Catch Me If You Can (2002)']\n",
            "Pengguna 118 memiliki 1 hits.\n",
            "Pengguna 30 memiliki 5 film relevan.\n",
            "Rekomendasi untuk pengguna 30: ['Avengers: Infinity War - Part I (2018)', 'X-Men: Days of Future Past (2014)', 'Deadpool (2016)', 'Thor: Ragnarok (2017)', 'Star Trek: First Contact (1996)', 'Serenity (2005)', 'Superman (1978)', 'Children of Men (2006)', 'Black Panther (2017)', 'Guardians of the Galaxy 2 (2017)']\n",
            "Pengguna 30 memiliki 1 hits.\n",
            "Pengguna 343 memiliki 10 film relevan.\n",
            "Rekomendasi untuk pengguna 343: ['Léon: The Professional (a.k.a. The Professional) (Léon) (1994)', 'Boondock Saints, The (2000)', 'Elite Squad (Tropa de Elite) (2007)', 'Heat (1995)', 'City of God (Cidade de Deus) (2002)', 'Kill Bill: Vol. 1 (2003)', 'Collateral (2004)', 'Munich (2005)', 'Clear and Present Danger (1994)', 'Taxi Driver (1976)']\n",
            "Pengguna 343 memiliki 1 hits.\n",
            "Pengguna 182 memiliki 91 film relevan.\n",
            "Rekomendasi untuk pengguna 182: ['American History X (1998)', 'Three Billboards Outside Ebbing, Missouri (2017)', 'On the Waterfront (1954)', 'Gran Torino (2008)', 'Bonnie and Clyde (1967)', 'No Country for Old Men (2007)', 'Catch Me If You Can (2002)', 'Crash (2004)', 'Wolf of Wall Street, The (2013)', 'Hell or High Water (2016)']\n",
            "Pengguna 182 memiliki 1 hits.\n",
            "Pengguna 467 memiliki 1 film relevan.\n",
            "Rekomendasi untuk pengguna 467: ['Graduate, The (1967)', 'Lost in Translation (2003)', 'Philadelphia Story, The (1940)', 'Adaptation (2002)', 'Harold and Maude (1971)', 'Apartment, The (1960)', 'Moonrise Kingdom (2012)', \"Amelie (Fabuleux destin d'Amélie Poulain, Le) (2001)\", 'Crazy, Stupid, Love. (2011)', \"Nobody's Fool (1994)\"]\n",
            "Pengguna 467 memiliki 0 hits.\n",
            "Pengguna 304 memiliki 35 film relevan.\n",
            "Rekomendasi untuk pengguna 304: ['Star Wars: Episode IV - A New Hope (1977)', 'Guardians of the Galaxy (2014)', 'Avengers: Infinity War - Part I (2018)', 'Iron Man (2008)', 'Superman (1978)', 'X-Men: Days of Future Past (2014)', 'Serenity (2005)', 'Thor: Ragnarok (2017)', 'Deadpool (2016)', 'Black Panther (2017)']\n",
            "Pengguna 304 memiliki 1 hits.\n",
            "Pengguna 231 memiliki 6 film relevan.\n",
            "Rekomendasi untuk pengguna 231: ['Batman Begins (2005)', 'Need for Speed (2014)', 'Dark Knight Rises, The (2012)', 'Fast Five (Fast and the Furious 5, The) (2011)', 'Eagle Eye (2008)', 'Fast & Furious 6 (Fast and the Furious 6, The) (2013)', 'Grandmaster, The (Yi dai zong shi) (2013)', 'Inception (2010)', 'Night at the Museum: Battle of the Smithsonian (2009)', 'White House Down (2013)']\n",
            "Pengguna 231 memiliki 0 hits.\n",
            "Pengguna 94 memiliki 1 film relevan.\n",
            "Rekomendasi untuk pengguna 94: ['Boot, Das (Boat, The) (1981)', 'Apocalypse Now (1979)', 'Saving Private Ryan (1998)', \"Schindler's List (1993)\", 'Inglourious Basterds (2009)', 'Longest Day, The (1962)', 'Great Escape, The (1963)', 'Dirty Dozen, The (1967)', 'Black Hawk Down (2001)', 'All Quiet on the Western Front (1930)']\n",
            "Pengguna 94 memiliki 0 hits.\n",
            "Pengguna 292 memiliki 31 film relevan.\n",
            "Rekomendasi untuk pengguna 292: ['Godfather: Part II, The (1974)', 'Goodfellas (1990)', 'Three Billboards Outside Ebbing, Missouri (2017)', 'Bonnie and Clyde (1967)', 'American History X (1998)', 'On the Waterfront (1954)', 'Casino (1995)', 'Heavenly Creatures (1994)', 'Crash (2004)', 'Dead Man Walking (1995)']\n",
            "Pengguna 292 memiliki 1 hits.\n",
            "Pengguna 496 memiliki 0 film relevan.\n",
            "Rekomendasi untuk pengguna 496: ['Shawshank Redemption, The (1994)', 'American History X (1998)', 'Goodfellas (1990)', 'Three Billboards Outside Ebbing, Missouri (2017)', 'On the Waterfront (1954)', 'Green Mile, The (1999)', 'Casino (1995)', 'Bonnie and Clyde (1967)', 'Gran Torino (2008)', 'Catch Me If You Can (2002)']\n",
            "Pengguna 496 memiliki 0 hits.\n",
            "Pengguna 41 memiliki 17 film relevan.\n",
            "Rekomendasi untuk pengguna 41: ['Hellraiser (1987)', 'Get Out (2017)', 'Halloween (1978)', 'Halloween (2007)', 'Loved Ones, The (2009)', 'Cemetery Man (Dellamorte Dellamore) (1994)', 'Texas Chainsaw Massacre, The (1974)', 'Campfire Tales (1997)', 'Black Sabbath (Tre volti della paura, I) (1963)', 'Nosferatu (Nosferatu, eine Symphonie des Grauens) (1922)']\n",
            "Pengguna 41 memiliki 0 hits.\n",
            "Pengguna 484 memiliki 37 film relevan.\n",
            "Rekomendasi untuk pengguna 484: ['South Park: Bigger, Longer and Uncut (1999)', 'Sleeping Beauty (1959)', 'Little Mermaid, The (1989)', 'Robin Hood (1973)', 'Alvin and the Chipmunks: The Squeakquel (2009)', 'All Dogs Christmas Carol, An (1998)', 'Hercules (1997)', 'Winnie the Pooh and the Blustery Day (1968)', 'Wallace & Gromit: A Close Shave (1995)', 'Many Adventures of Winnie the Pooh, The (1977)']\n",
            "Pengguna 484 memiliki 2 hits.\n",
            "Pengguna 290 memiliki 47 film relevan.\n",
            "Rekomendasi untuk pengguna 290: ['Silence of the Lambs, The (1991)', 'Saw (2003)', 'Godfather, The (1972)', 'Shaun of the Dead (2004)', \"Devil's Rejects, The (2005)\", 'Office Space (1999)', 'Halloween (1978)', 'American History X (1998)', 'Ex Drummer (2007)', 'On the Waterfront (1954)']\n",
            "Pengguna 290 memiliki 4 hits.\n",
            "Pengguna 123 memiliki 8 film relevan.\n",
            "Rekomendasi untuk pengguna 123: ['Toy Story 3 (2010)', 'Rise of the Guardians (2012)', 'Polar Express, The (2004)', 'Ant Bully, The (2006)', 'Cloudy with a Chance of Meatballs (2009)', 'Shrek Forever After (a.k.a. Shrek: The Final Chapter) (2010)', 'Ponyo (Gake no ue no Ponyo) (2008)', 'Harry Potter and the Prisoner of Azkaban (2004)', 'Toy Story (1995)', 'Spiderwick Chronicles, The (2008)']\n",
            "Pengguna 123 memiliki 0 hits.\n",
            "Rata-rata Precision@10: 0.0480\n",
            "Rata-rata Recall@10: 0.0395\n"
          ]
        }
      ]
    },
    {
      "cell_type": "markdown",
      "source": [
        "**Dari data yang disajikan, terlihat bahwa kinerja sistem rekomendasi ini, yang diukur dengan metrik Precision@k dan Recall@k pada k=10, masih sangat rendah.**\n",
        "\n",
        "* Rata-rata Precision@10 sebesar 0.0380 menunjukkan bahwa, rata-rata, hanya sekitar 3.8% dari film yang direkomendasikan kepada pengguna adalah film yang relevan (film yang mereka sukai). Dengan kata lain, dari 10 film yang direkomendasikan, hanya sekitar 0.38 film (kurang dari satu) yang benar-benar relevan.\n",
        "\n",
        "* Rata-rata Recall@10 sebesar 0.0285 menunjukkan bahwa, rata-rata, sistem hanya berhasil menemukan sekitar 2.85% dari total film relevan yang disukai pengguna. Ini berarti sistem gagal menemukan sebagian besar film relevan yang ada dalam data pengguna.\n",
        "\n",
        "Meskipun model ini berhasil memberikan rekomendasi yang terlihat masuk akal secara tematis (misalnya, rekomendasi film-film aksi/sci-fi untuk Pengguna 582 dan 599, atau film kriminal untuk Pengguna 215), jumlah \"hits\" (film yang direkomendasikan dan juga relevan) sangat sedikit. Dari 32 pengguna yang dievaluasi, hanya 9 pengguna yang mendapatkan setidaknya satu film relevan di antara 10 rekomendasi teratas mereka."
      ],
      "metadata": {
        "id": "VeOvnG4yDmQR"
      }
    },
    {
      "cell_type": "markdown",
      "source": [
        "**Analisis Lebih Lanjut**\n",
        "\n",
        "Hasil ini menunjukkan bahwa ada beberapa area yang perlu diperbaiki:\n",
        "\n",
        "* Keterbatasan Data: Jumlah pengguna dan film yang digunakan untuk evaluasi ini mungkin tidak cukup besar untuk memberikan gambaran yang akurat. Selain itu, sebaran data rating mungkin tidak merata, menyebabkan beberapa pengguna memiliki sedikit atau bahkan nol film relevan (seperti Pengguna 207 dan 496).\n",
        "\n",
        "* Masalah Cold-Start: Sebagian besar pengguna dalam evaluasi ini (seperti Pengguna 428, 215, 461, 197, dst.) memiliki hits nol. Ini bisa menjadi indikasi masalah cold-start, di mana model tidak memiliki cukup data riwayat rating untuk pengguna tersebut, sehingga rekomendasinya tidak akurat.\n",
        "\n",
        "* Bobot Model Hibrida: Bobot yang diberikan pada model Collaborative dan Content-based (jika ini adalah model hibrida) mungkin tidak optimal. Model mungkin terlalu condong ke salah satu sisi, sehingga gagal memanfaatkan kekuatan gabungan dari kedua pendekatan.\n",
        "\n",
        "* Definisi \"Relevan\": Mungkin ada masalah dalam definisi \"film relevan\". Jika hanya film dengan rating 4 atau 5 yang dianggap relevan, model mungkin kesulitan jika sebagian besar rating pengguna berada di angka 3.\n",
        "\n",
        "Secara keseluruhan, meskipun proyek ini berhasil membangun sebuah alur kerja rekomendasi, hasil evaluasi menunjukkan bahwa model ini belum siap untuk digunakan di lingkungan produksi. Diperlukan iterasi lebih lanjut pada model, data, dan strategi evaluasi untuk meningkatkan performa secara signifikan."
      ],
      "metadata": {
        "id": "u2csnbN9D2BX"
      }
    },
    {
      "cell_type": "markdown",
      "source": [
        "##Perbandingan Metode Hibryd dengan CF murni dan CBF murni"
      ],
      "metadata": {
        "id": "Ai7lN6J07PsR"
      }
    },
    {
      "cell_type": "markdown",
      "source": [
        "###Collaborative Filtering Murni"
      ],
      "metadata": {
        "id": "0_KVOhQl7gmj"
      }
    },
    {
      "cell_type": "code",
      "source": [
        "def get_collaborative_recommendations(user_id, num_recommendations=10):\n",
        "    \"\"\"\n",
        "    Memberikan rekomendasi murni Collaborative Filtering (berdasarkan predicted_rating tertinggi).\n",
        "    \"\"\"\n",
        "    # 1. Mendapatkan daftar film yang belum pernah ditonton pengguna (dari data latih)\n",
        "    user_rated_movies = train_df[train_df['userId'] == user_id]['title'].tolist()\n",
        "    all_movies_titles = df_movie['title'].tolist()\n",
        "    unrated_movies = [title for title in all_movies_titles if title not in user_rated_movies]\n",
        "    unrated_movies_sample = pd.Series(unrated_movies).tolist()\n",
        "\n",
        "    # 2. Menggunakan model Collaborative (learn) untuk memprediksi rating\n",
        "    user_tensor = torch.tensor([dls.classes['userId'].o2i[user_id]] * len(unrated_movies_sample))\n",
        "    movie_titles_tensor = torch.tensor([dls.classes['title'].o2i[title] for title in unrated_movies_sample])\n",
        "    collab_input = torch.stack([user_tensor, movie_titles_tensor], dim=1)\n",
        "\n",
        "    with torch.no_grad():\n",
        "        collab_preds = learn.model.forward(collab_input)\n",
        "    collab_preds = collab_preds.numpy()\n",
        "\n",
        "    collab_df = pd.DataFrame({'title': unrated_movies_sample, 'predicted_rating': collab_preds.flatten()})\n",
        "\n",
        "    # 3. Urutkan berdasarkan predicted_rating saja (bukan hybrid_score)\n",
        "    final_recs = collab_df.sort_values(by='predicted_rating', ascending=False).head(num_recommendations)\n",
        "\n",
        "    return final_recs\n",
        "\n",
        "def evaluate_cf_recommender(model, ratings_df, test_df, k=10, min_rating=4.0):\n",
        "    \"\"\"\n",
        "    Mengevaluasi sistem rekomendasi CF murni menggunakan Precision@k dan Recall@k.\n",
        "    \"\"\"\n",
        "    all_users = test_df['userId'].unique()\n",
        "    precision_scores = []\n",
        "    recall_scores = []\n",
        "\n",
        "    sample_users = pd.Series(all_users).sample(n=min(50, len(all_users)), random_state=42)\n",
        "\n",
        "    for user_id in sample_users:\n",
        "        user_ratings = test_df[test_df['userId'] == user_id]\n",
        "        relevant_movies = user_ratings[user_ratings['rating'] >= min_rating]['title'].tolist()\n",
        "\n",
        "        if not relevant_movies:\n",
        "            continue\n",
        "\n",
        "        # Memanggil fungsi rekomendasi CF murni\n",
        "        recommendations = get_collaborative_recommendations(user_id, num_recommendations=k)\n",
        "        # -------------------------\n",
        "\n",
        "        if recommendations is None or recommendations.empty:\n",
        "            precision_scores.append(0)\n",
        "            recall_scores.append(0)\n",
        "            continue\n",
        "\n",
        "        recommended_movies = recommendations['title'].tolist()\n",
        "        hits = len(set(recommended_movies) & set(relevant_movies))\n",
        "\n",
        "        precision = hits / len(recommended_movies) if len(recommended_movies) > 0 else 0\n",
        "        precision_scores.append(precision)\n",
        "\n",
        "        recall = hits / len(relevant_movies) if len(relevant_movies) > 0 else 0\n",
        "        recall_scores.append(recall)\n",
        "\n",
        "    avg_precision = sum(precision_scores) / len(precision_scores) if precision_scores else 0\n",
        "    avg_recall = sum(recall_scores) / len(recall_scores) if recall_scores else 0\n",
        "\n",
        "    return avg_precision, avg_recall"
      ],
      "metadata": {
        "id": "ZBhQ6pr17bDX"
      },
      "execution_count": 70,
      "outputs": []
    },
    {
      "cell_type": "code",
      "source": [
        "# Evaluasi model CF Murni\n",
        "print(\"--- Mengevaluasi Model Collaborative Filtering Murni ---\")\n",
        "avg_prec_cf, avg_rec_cf = evaluate_cf_recommender(learn, ratings, test_df, k=10, min_rating=4.0)\n",
        "print(f\"\\nRata-rata Precision@10 (CF Murni): {avg_prec_cf:.4f}\")\n",
        "print(f\"Rata-rata Recall@10 (CF Murni): {avg_rec_cf:.4f}\")"
      ],
      "metadata": {
        "colab": {
          "base_uri": "https://localhost:8080/"
        },
        "id": "Ps3xvELh7sOt",
        "outputId": "7fe311bc-b363-4a69-b67b-027a63dfe855"
      },
      "execution_count": 71,
      "outputs": [
        {
          "output_type": "stream",
          "name": "stdout",
          "text": [
            "--- Mengevaluasi Model Collaborative Filtering Murni ---\n",
            "\n",
            "Rata-rata Precision@10 (CF Murni): 0.1000\n",
            "Rata-rata Recall@10 (CF Murni): 0.0865\n"
          ]
        }
      ]
    },
    {
      "cell_type": "markdown",
      "source": [
        "### Content-Based Filtering"
      ],
      "metadata": {
        "id": "-fIAKPlN7ud5"
      }
    },
    {
      "cell_type": "code",
      "source": [
        "def get_content_based_recommendations(user_id, num_recommendations=10):\n",
        "    \"\"\"\n",
        "    Memberikan rekomendasi murni Content-Based Filtering (berdasarkan kemiripan genre).\n",
        "    \"\"\"\n",
        "    # 1. Mendapatkan film favorit pengguna (benih) dari data latih\n",
        "    user_top_movies = train_df[(train_df['userId'] == user_id) & (train_df['rating'] >= 4.0)].sort_values(by='rating', ascending=False).head(5)\n",
        "\n",
        "    if user_top_movies.empty:\n",
        "        # Jika pengguna tidak punya rating tinggi, kita tidak bisa memberi rekomendasi berbasis konten\n",
        "        return None\n",
        "\n",
        "    # Kita ambil 1 film teratas sebagai benih utama\n",
        "    seed_movie_title = user_top_movies['title'].iloc[0]\n",
        "    seed_movie_idx = df_movie[df_movie['title'] == seed_movie_title].index[0]\n",
        "\n",
        "    # 2. Dapatkan skor kemiripan dari film benih ke SEMUA film lain\n",
        "    content_sim_scores = cosine_sim[seed_movie_idx]\n",
        "\n",
        "    # Ubah menjadi series pandas untuk memudahkan manipulasi\n",
        "    all_movies_sim = pd.Series(content_sim_scores, index=df_movie['title'])\n",
        "\n",
        "    # 3. Hapus film yang sudah ditonton pengguna\n",
        "    user_rated_movies = train_df[train_df['userId'] == user_id]['title'].tolist()\n",
        "    all_movies_sim = all_movies_sim.drop(user_rated_movies, errors='ignore')\n",
        "\n",
        "    # 4. Urutkan berdasarkan skor kemiripan tertinggi\n",
        "    final_recs = all_movies_sim.sort_values(ascending=False).head(num_recommendations)\n",
        "\n",
        "    # Format output agar sama seperti fungsi lain (DataFrame)\n",
        "    return pd.DataFrame({'title': final_recs.index, 'content_sim_score': final_recs.values})\n",
        "\n",
        "def evaluate_cbf_recommender(ratings_df, test_df, k=10, min_rating=4.0):\n",
        "    \"\"\"\n",
        "    Mengevaluasi sistem rekomendasi CBF murni menggunakan Precision@k dan Recall@k.\n",
        "    \"\"\"\n",
        "    all_users = test_df['userId'].unique()\n",
        "    precision_scores = []\n",
        "    recall_scores = []\n",
        "\n",
        "    sample_users = pd.Series(all_users).sample(n=min(50, len(all_users)), random_state=42)\n",
        "\n",
        "    for user_id in sample_users:\n",
        "        user_ratings = test_df[test_df['userId'] == user_id]\n",
        "        relevant_movies = user_ratings[user_ratings['rating'] >= min_rating]['title'].tolist()\n",
        "\n",
        "        if not relevant_movies:\n",
        "            continue\n",
        "\n",
        "        # Memanggil fungsi rekomendasi CBF murni\n",
        "        recommendations = get_content_based_recommendations(user_id, num_recommendations=k)\n",
        "        # -------------------------\n",
        "\n",
        "        if recommendations is None or recommendations.empty:\n",
        "            precision_scores.append(0)\n",
        "            recall_scores.append(0)\n",
        "            continue\n",
        "\n",
        "        recommended_movies = recommendations['title'].tolist()\n",
        "        hits = len(set(recommended_movies) & set(relevant_movies))\n",
        "\n",
        "        precision = hits / len(recommended_movies) if len(recommended_movies) > 0 else 0\n",
        "        precision_scores.append(precision)\n",
        "\n",
        "        recall = hits / len(relevant_movies) if len(relevant_movies) > 0 else 0\n",
        "        recall_scores.append(recall)\n",
        "\n",
        "    avg_precision = sum(precision_scores) / len(precision_scores) if precision_scores else 0\n",
        "    avg_recall = sum(recall_scores) / len(recall_scores) if recall_scores else 0\n",
        "\n",
        "    return avg_precision, avg_recall"
      ],
      "metadata": {
        "id": "qmi95wpZ7xr6"
      },
      "execution_count": 72,
      "outputs": []
    },
    {
      "cell_type": "code",
      "source": [
        "# Evaluasi model CBF Murni\n",
        "print(\"--- Mengevaluasi Model Content-Based Filtering Murni ---\")\n",
        "avg_prec_cbf, avg_rec_cbf = evaluate_cbf_recommender(ratings, test_df, k=10, min_rating=4.0)\n",
        "print(f\"\\nRata-rata Precision@10 (CBF Murni): {avg_prec_cbf:.4f}\")\n",
        "print(f\"Rata-rata Recall@10 (CBF Murni): {avg_rec_cbf:.4f}\")"
      ],
      "metadata": {
        "colab": {
          "base_uri": "https://localhost:8080/"
        },
        "id": "spRKe8NF74UB",
        "outputId": "fde4970b-bf70-41ca-bae7-10219f1bab17"
      },
      "execution_count": 73,
      "outputs": [
        {
          "output_type": "stream",
          "name": "stdout",
          "text": [
            "--- Mengevaluasi Model Content-Based Filtering Murni ---\n",
            "\n",
            "Rata-rata Precision@10 (CBF Murni): 0.0063\n",
            "Rata-rata Recall@10 (CBF Murni): 0.0028\n"
          ]
        }
      ]
    },
    {
      "cell_type": "markdown",
      "source": [
        "### Hasil Analisis"
      ],
      "metadata": {
        "id": "yTvXgKcB77Bc"
      }
    },
    {
      "cell_type": "code",
      "source": [
        "# --- Pembuatan Tabel Perbandingan Hasil Evaluasi ---\n",
        "\n",
        "# 1. Kumpulkan semua data metrik ke dalam dictionary\n",
        "evaluation_summary_data = {\n",
        "    'Model': [\n",
        "        '1. Collaborative Filtering (Murni)',\n",
        "        '2. Content-Based Filtering (Murni)',\n",
        "        '3. Hybrid Re-ranking'\n",
        "    ],\n",
        "    'Precision@10': [avg_prec_cf, avg_prec_cbf, avg_prec],\n",
        "    'Recall@10': [avg_rec_cf, avg_rec_cbf, avg_rec]\n",
        "}\n",
        "\n",
        "# 2. Buat DataFrame dari dictionary\n",
        "df_evaluation_comparison = pd.DataFrame(evaluation_summary_data)\n",
        "\n",
        "# 3. Atur kolom 'Model' sebagai index agar tabel lebih mudah dibaca\n",
        "df_evaluation_comparison = df_evaluation_comparison.set_index('Model')\n",
        "\n",
        "# 4. Tampilkan tabel hasil perbandingan\n",
        "print(\"--- Tabel Perbandingan Metrik Evaluasi Model ---\")\n",
        "print(df_evaluation_comparison)"
      ],
      "metadata": {
        "colab": {
          "base_uri": "https://localhost:8080/"
        },
        "id": "AeVCMZ1M8Ge0",
        "outputId": "67c17e3a-ba1a-4227-bd1b-744bd084433c"
      },
      "execution_count": 74,
      "outputs": [
        {
          "output_type": "stream",
          "name": "stdout",
          "text": [
            "--- Tabel Perbandingan Metrik Evaluasi Model ---\n",
            "                                    Precision@10  Recall@10\n",
            "Model                                                      \n",
            "1. Collaborative Filtering (Murni)       0.10000   0.086472\n",
            "2. Content-Based Filtering (Murni)       0.00625   0.002760\n",
            "3. Hybrid Re-ranking                     0.04800   0.039495\n"
          ]
        }
      ]
    },
    {
      "cell_type": "markdown",
      "source": [
        "Berdasarkan hasil tersebut dapat dilihat jika metode collaborative filtering mendapatkan hasil yang paling baik dengan precision@10 sebesar 0.10000 dan recall@10 sebesar 0.086472. Angka ini menunjukkan bahwa dengan hanya melihat pola perilaku pengguna (apa yang disukai pengguna serupa), model ini berhasil menempatkan 1 dari 10 film yang benar-benar relevan di daftar rekomendasi. Ini membuktikan bahwa sinyal \"kearifan kolektif\" (apa yang disukai orang lain) adalah prediktor yang jauh lebih kuat daripada fitur genre. Model CF berhasil menemukan koneksi lintas-genre yang tidak bisa dilihat oleh CBF.\n",
        "\n",
        "Sedangkan, Performa model content based filtering hampir nol. Presisi 0.6% pada dasarnya berarti model ini hampir tidak pernah memberikan rekomendasi yang benar dan performanya tidak jauh lebih baik dari tebakan acak. Ini membuktikan bahwa strategi CBF yang digunakan (mencari film yang mirip genrenya hanya dengan satu film favorit pengguna) adalah strategi yang sangat tidak efektif. Selera pengguna jauh lebih kompleks daripada hanya menyukai satu genre yang sama berulang kali."
      ],
      "metadata": {
        "id": "yy9rwtnZJruZ"
      }
    },
    {
      "cell_type": "markdown",
      "source": [
        "# **Implementasi Sistem Rekomendasi**"
      ],
      "metadata": {
        "id": "wGXb4TASCD5K"
      }
    },
    {
      "cell_type": "markdown",
      "source": [
        "Proyek ini berhasil membangun sistem rekomendasi film menggunakan metode hibrida. Meski demikian, berdasarkan analisis evaluasi, dapat disimpulkan bahwa model hibrida menunjukkan kinerja sub-optimal, dengan skor metrik performa yang lebih rendah dibandingkan model Collaborative Filtering (CF) murni.\n",
        "\n",
        "Degradasi performa ini disebabkan oleh penggabungan sinyal dari model Content-Based Filtering (CBF) yang terbukti memiliki akurasi prediktif yang sangat rendah. Alokasi bobot yang signifikan (40%) pada komponen CBF yang tidak akurat ini secara efektif mendistorsi dan menurunkan kualitas peringkat relevan yang sebelumnya telah dihasilkan oleh model CF yang jauh lebih akurat. Dengan kata lain, intervensi dari prediktor yang lemah telah memberikan dampak negatif pada hasil akhir sistem."
      ],
      "metadata": {
        "id": "cL0qOQLrCKeI"
      }
    },
    {
      "cell_type": "markdown",
      "source": [
        "## Strategi Bisnis"
      ],
      "metadata": {
        "id": "Lkd5L2iaCXW-"
      }
    },
    {
      "cell_type": "markdown",
      "source": [
        "Sistem hibrida ini memiliki potensi besar untuk diintegrasikan ke dalam operasi bisnis. Berikut adalah beberapa strategi utama:\n",
        "\n",
        "* Personalisasi Halaman Utama: Rekomendasi paling relevan akan ditampilkan di halaman utama, memastikan pengguna langsung disambut dengan konten yang mereka sukai. Ini dapat meningkatkan rata-rata sesi pengguna dan menurunkan tingkat bounce rate.\n",
        "\n",
        "* Fitur \"Lebih seperti ini\": Di halaman detail film, pengguna akan melihat daftar film yang mirip secara tematis. Fitur ini dapat meminimalkan waktu yang dihabiskan pengguna untuk mencari konten dan mendorong mereka untuk terus menonton.\n",
        "\n",
        "* Kampanye Pemasaran yang Ditargetkan: Model dapat digunakan untuk mengidentifikasi film-film yang mungkin disukai oleh pengguna yang tidak aktif. Rekomendasi yang dipersonalisasi dapat dikirim melalui email atau notifikasi untuk mendorong mereka kembali ke platform.\n",
        "\n",
        "* Onboarding Pengguna Baru: Saat pengguna pertama kali mendaftar, mereka dapat diminta untuk memberi rating pada beberapa film. Sistem dapat menggunakan model Content-based untuk memberikan rekomendasi instan, menciptakan pengalaman yang menarik sejak awal."
      ],
      "metadata": {
        "id": "bBOqXlV3DMkE"
      }
    },
    {
      "cell_type": "markdown",
      "source": [
        "## Kesimpulan"
      ],
      "metadata": {
        "id": "IsxdK5eaDU2M"
      }
    },
    {
      "cell_type": "markdown",
      "source": [
        "Secara keseluruhan, meskipun proyek ini berhasil membangun alur kerja rekomendasi, hasil evaluasi menunjukkan adanya kebutuhan mendesak untuk mengoptimalkan model, menyesuaikan bobot hibrida, dan mempertimbangkan strategi yang lebih efektif untuk mengatasi pengguna dengan riwayat rating yang minim."
      ],
      "metadata": {
        "id": "DrkBCBoMDXD7"
      }
    }
  ]
}